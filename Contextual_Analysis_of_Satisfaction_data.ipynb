{
  "nbformat": 4,
  "nbformat_minor": 0,
  "metadata": {
    "colab": {
      "name": "Contextual Analysis of Satisfaction data.ipynb",
      "provenance": [],
      "authorship_tag": "ABX9TyNp/9ZXewE7h5h8EiS8e5Un",
      "include_colab_link": true
    },
    "kernelspec": {
      "name": "python3",
      "display_name": "Python 3"
    }
  },
  "cells": [
    {
      "cell_type": "markdown",
      "metadata": {
        "id": "view-in-github",
        "colab_type": "text"
      },
      "source": [
        "<a href=\"https://colab.research.google.com/github/Pogayo/Machine-Learning/blob/master/Contextual_Analysis_of_Satisfaction_data.ipynb\" target=\"_parent\"><img src=\"https://colab.research.google.com/assets/colab-badge.svg\" alt=\"Open In Colab\"/></a>"
      ]
    },
    {
      "cell_type": "code",
      "metadata": {
        "id": "q99MNMLpy2MZ",
        "colab_type": "code",
        "outputId": "4d1c8c43-3f4a-41c2-8f8d-dfee20f7aa32",
        "colab": {
          "resources": {
            "http://localhost:8080/nbextensions/google.colab/files.js": {
              "data": "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",
              "ok": true,
              "headers": [
                [
                  "content-type",
                  "application/javascript"
                ]
              ],
              "status": 200,
              "status_text": ""
            }
          },
          "base_uri": "https://localhost:8080/",
          "height": 74
        }
      },
      "source": [
        "from google.colab import files\n",
        "uploaded=files.upload()"
      ],
      "execution_count": 0,
      "outputs": [
        {
          "output_type": "display_data",
          "data": {
            "text/html": [
              "\n",
              "     <input type=\"file\" id=\"files-94d516d3-f0e7-424f-8d17-ea0cfa26cff1\" name=\"files[]\" multiple disabled />\n",
              "     <output id=\"result-94d516d3-f0e7-424f-8d17-ea0cfa26cff1\">\n",
              "      Upload widget is only available when the cell has been executed in the\n",
              "      current browser session. Please rerun this cell to enable.\n",
              "      </output>\n",
              "      <script src=\"/nbextensions/google.colab/files.js\"></script> "
            ],
            "text/plain": [
              "<IPython.core.display.HTML object>"
            ]
          },
          "metadata": {
            "tags": []
          }
        },
        {
          "output_type": "stream",
          "text": [
            "Saving sat.csv to sat.csv\n"
          ],
          "name": "stdout"
        }
      ]
    },
    {
      "cell_type": "code",
      "metadata": {
        "id": "lsB5TyGTzAnL",
        "colab_type": "code",
        "colab": {}
      },
      "source": [
        "from textblob import TextBlob\n",
        "import numpy as np\n",
        "import pandas as pd\n",
        "import io\n",
        "import six    #will be used to check if a variable is a string\n",
        "import matplotlib.pyplot as plt\n"
      ],
      "execution_count": 0,
      "outputs": []
    },
    {
      "cell_type": "code",
      "metadata": {
        "id": "4c0U8-H1zHdE",
        "colab_type": "code",
        "colab": {}
      },
      "source": [
        "raw_data=pd.read_csv(io.BytesIO(uploaded['sat.csv']), header=[1])"
      ],
      "execution_count": 0,
      "outputs": []
    },
    {
      "cell_type": "code",
      "metadata": {
        "id": "szItNpXfzIdk",
        "colab_type": "code",
        "outputId": "3a4fa700-2059-4b33-df43-5eae3170b824",
        "colab": {
          "base_uri": "https://localhost:8080/",
          "height": 904
        }
      },
      "source": [
        "raw_data.head()"
      ],
      "execution_count": 0,
      "outputs": [
        {
          "output_type": "execute_result",
          "data": {
            "text/html": [
              "<div>\n",
              "<style scoped>\n",
              "    .dataframe tbody tr th:only-of-type {\n",
              "        vertical-align: middle;\n",
              "    }\n",
              "\n",
              "    .dataframe tbody tr th {\n",
              "        vertical-align: top;\n",
              "    }\n",
              "\n",
              "    .dataframe thead th {\n",
              "        text-align: right;\n",
              "    }\n",
              "</style>\n",
              "<table border=\"1\" class=\"dataframe\">\n",
              "  <thead>\n",
              "    <tr style=\"text-align: right;\">\n",
              "      <th></th>\n",
              "      <th>Unnamed: 0</th>\n",
              "      <th>Campus</th>\n",
              "      <th>Class</th>\n",
              "      <th>Which section did you take ?</th>\n",
              "      <th>Do you have a scholarship with</th>\n",
              "      <th>What mostly motivated you to take the training?</th>\n",
              "      <th>To what extent are you satisfied with the training?</th>\n",
              "      <th>How are you satisfied with the cost of the training at Vatel Rwanda ?</th>\n",
              "      <th>How are you satisfied with the information and customer service provided by Vatel staff in student services?</th>\n",
              "      <th>How likely will that training lead to a job / a promotion / an increase in income?</th>\n",
              "      <th>It was easy to find out about this training course</th>\n",
              "      <th>I am gaining the skills that I want to learn from this training</th>\n",
              "      <th>I receive regular feedback throughout the course on my progress</th>\n",
              "      <th>How are you satisfied with the blended training? ( a mix of theory &amp; practicals)</th>\n",
              "      <th>How are you satisfied with Financial assistance?</th>\n",
              "      <th>How are you satisfied with Career advice &amp; planning?</th>\n",
              "      <th>How do you rate the mix of practical and theoretical work in your training?</th>\n",
              "      <th>How do you rate the amount of time spent on practicals?</th>\n",
              "      <th>How do you rate the amount of time spent on training? (One month of training)</th>\n",
              "      <th>In general, The facilitators stimulated my interest in the subject</th>\n",
              "      <th>The facilitators managed the classroom time and pace well</th>\n",
              "      <th>How are you satisfied with English language assistance? ( extra course)</th>\n",
              "      <th>The facilitators were organized and prepared for every class</th>\n",
              "      <th>The facilitators encouraged participation in practicals and responded to questions</th>\n",
              "      <th>The facilitators demonstrated in-depth knowledge of the subject</th>\n",
              "      <th>The facilitator was enthusiastic and interested</th>\n",
              "      <th>The facilitators challenged trainees to do their best work</th>\n",
              "      <th>The facilitators were accessible outside of class</th>\n",
              "      <th>Information about the assessment was communicated clearly</th>\n",
              "      <th>Feedback was provided within the stated timeframe</th>\n",
              "      <th>Feedback showed how to improve my work (e .g. corrections including comments).</th>\n",
              "      <th>The syllabus ( course content ) was explained at the beginning of the course.</th>\n",
              "      <th>The course was delivered as outlined in the syllabus</th>\n",
              "      <th>The facilitators explained the grading criteria of the course</th>\n",
              "      <th>Assignments were related to the course outcome</th>\n",
              "      <th>The exams were related to the course outcome.</th>\n",
              "      <th>Which course did you enjoy most and why?</th>\n",
              "      <th>Which course did you enjoy less and why?</th>\n",
              "      <th>Would you recommend this training to another student?</th>\n",
              "      <th>On a scale of zero to ten (10 being extremely likely and 0 being not at all likely),how likely are you to recommend Vatel training to another student/ friend or colleague?”</th>\n",
              "      <th>Would you explain in your own words what need to be improved in the training to increase your satisfaction level?</th>\n",
              "    </tr>\n",
              "  </thead>\n",
              "  <tbody>\n",
              "    <tr>\n",
              "      <th>0</th>\n",
              "      <td>NaN</td>\n",
              "      <td>Kigali</td>\n",
              "      <td>NaN</td>\n",
              "      <td>NaN</td>\n",
              "      <td>yes</td>\n",
              "      <td>to get the skills required to work in tourism ...</td>\n",
              "      <td>Satisfied</td>\n",
              "      <td>Very satisfied</td>\n",
              "      <td>Very satisfied</td>\n",
              "      <td>Very satisfied</td>\n",
              "      <td>Disagree</td>\n",
              "      <td>Strongly agree</td>\n",
              "      <td>Disagree</td>\n",
              "      <td>Satisfied</td>\n",
              "      <td>Satisfied</td>\n",
              "      <td>Satisfied</td>\n",
              "      <td>The combination is about right</td>\n",
              "      <td>Enough</td>\n",
              "      <td>Not enough</td>\n",
              "      <td>Strongly agree</td>\n",
              "      <td>Strongly agree</td>\n",
              "      <td>Very satisfied</td>\n",
              "      <td>Strongly agree</td>\n",
              "      <td>NaN</td>\n",
              "      <td>Strongly agree</td>\n",
              "      <td>Strongly agree</td>\n",
              "      <td>Strongly agree</td>\n",
              "      <td>Agree</td>\n",
              "      <td>Strongly agree</td>\n",
              "      <td>Agree</td>\n",
              "      <td>Agree</td>\n",
              "      <td>Yes</td>\n",
              "      <td>Yes</td>\n",
              "      <td>Yes</td>\n",
              "      <td>Yes</td>\n",
              "      <td>Yes</td>\n",
              "      <td>In this E-learning class batch 9 I enjoyed eve...</td>\n",
              "      <td>none</td>\n",
              "      <td>Yes</td>\n",
              "      <td>10.0</td>\n",
              "      <td>what I may suggest in front office agents depa...</td>\n",
              "    </tr>\n",
              "    <tr>\n",
              "      <th>1</th>\n",
              "      <td>NaN</td>\n",
              "      <td>Kigali</td>\n",
              "      <td>NaN</td>\n",
              "      <td>NaN</td>\n",
              "      <td>NaN</td>\n",
              "      <td>to get the skills required to work in tourism ...</td>\n",
              "      <td>Satisfied</td>\n",
              "      <td>Very satisfied</td>\n",
              "      <td>Very satisfied</td>\n",
              "      <td>Satisfied</td>\n",
              "      <td>Strongly agree</td>\n",
              "      <td>Agree</td>\n",
              "      <td>Strongly agree</td>\n",
              "      <td>Satisfied</td>\n",
              "      <td>Very satisfied</td>\n",
              "      <td>Satisfied</td>\n",
              "      <td>Too much theory</td>\n",
              "      <td>Not enough</td>\n",
              "      <td>Enough</td>\n",
              "      <td>Strongly agree</td>\n",
              "      <td>Strongly agree</td>\n",
              "      <td>Very satisfied</td>\n",
              "      <td>Strongly agree</td>\n",
              "      <td>Strongly agree</td>\n",
              "      <td>Strongly agree</td>\n",
              "      <td>Strongly agree</td>\n",
              "      <td>Strongly agree</td>\n",
              "      <td>Strongly agree</td>\n",
              "      <td>Strongly agree</td>\n",
              "      <td>Strongly agree</td>\n",
              "      <td>Strongly agree</td>\n",
              "      <td>Yes</td>\n",
              "      <td>Yes</td>\n",
              "      <td>Yes</td>\n",
              "      <td>Yes</td>\n",
              "      <td>Yes</td>\n",
              "      <td>NaN</td>\n",
              "      <td>NaN</td>\n",
              "      <td>Yes</td>\n",
              "      <td>NaN</td>\n",
              "      <td>For me including professional pactices like op...</td>\n",
              "    </tr>\n",
              "    <tr>\n",
              "      <th>2</th>\n",
              "      <td>NaN</td>\n",
              "      <td>Kigali</td>\n",
              "      <td>1.0</td>\n",
              "      <td>Food and beverage training</td>\n",
              "      <td>Yes</td>\n",
              "      <td>to get the skills required to work in tourism ...</td>\n",
              "      <td>Very satisfied</td>\n",
              "      <td>Very satisfied</td>\n",
              "      <td>Satisfied</td>\n",
              "      <td>Very satisfied</td>\n",
              "      <td>Strongly agree</td>\n",
              "      <td>Strongly agree</td>\n",
              "      <td>Strongly agree</td>\n",
              "      <td>Very satisfied</td>\n",
              "      <td>NaN</td>\n",
              "      <td>Dissatisfied</td>\n",
              "      <td>The combination is about right</td>\n",
              "      <td>Enough</td>\n",
              "      <td>NaN</td>\n",
              "      <td>Strongly agree</td>\n",
              "      <td>Strongly agree</td>\n",
              "      <td>NaN</td>\n",
              "      <td>Strongly agree</td>\n",
              "      <td>Strongly disagree</td>\n",
              "      <td>Strongly agree</td>\n",
              "      <td>Strongly agree</td>\n",
              "      <td>Strongly agree</td>\n",
              "      <td>Strongly agree</td>\n",
              "      <td>Strongly agree</td>\n",
              "      <td>Strongly agree</td>\n",
              "      <td>Strongly agree</td>\n",
              "      <td>Yes</td>\n",
              "      <td>Yes</td>\n",
              "      <td>Yes</td>\n",
              "      <td>Yes</td>\n",
              "      <td>Yes</td>\n",
              "      <td>NaN</td>\n",
              "      <td>NaN</td>\n",
              "      <td>Yes</td>\n",
              "      <td>NaN</td>\n",
              "      <td>NaN</td>\n",
              "    </tr>\n",
              "    <tr>\n",
              "      <th>3</th>\n",
              "      <td>NaN</td>\n",
              "      <td>Kigali</td>\n",
              "      <td>1.0</td>\n",
              "      <td>Food and beverage training</td>\n",
              "      <td>Yes</td>\n",
              "      <td>to get the skills required to work in tourism ...</td>\n",
              "      <td>Very satisfied</td>\n",
              "      <td>Very satisfied</td>\n",
              "      <td>Satisfied</td>\n",
              "      <td>Very satisfied</td>\n",
              "      <td>Strongly agree</td>\n",
              "      <td>Strongly agree</td>\n",
              "      <td>Strongly agree</td>\n",
              "      <td>Very satisfied</td>\n",
              "      <td>Dissatisfied</td>\n",
              "      <td>Very satisfied</td>\n",
              "      <td>The combination is about right</td>\n",
              "      <td>Enough</td>\n",
              "      <td>NaN</td>\n",
              "      <td>Strongly agree</td>\n",
              "      <td>Strongly agree</td>\n",
              "      <td>NaN</td>\n",
              "      <td>Strongly agree</td>\n",
              "      <td>Strongly agree</td>\n",
              "      <td>Strongly agree</td>\n",
              "      <td>Strongly agree</td>\n",
              "      <td>Strongly agree</td>\n",
              "      <td>Strongly agree</td>\n",
              "      <td>Strongly agree</td>\n",
              "      <td>Strongly agree</td>\n",
              "      <td>Strongly agree</td>\n",
              "      <td>Yes</td>\n",
              "      <td>Yes</td>\n",
              "      <td>Yes</td>\n",
              "      <td>Yes</td>\n",
              "      <td>Yes</td>\n",
              "      <td>NaN</td>\n",
              "      <td>NaN</td>\n",
              "      <td>Yes</td>\n",
              "      <td>NaN</td>\n",
              "      <td>NaN</td>\n",
              "    </tr>\n",
              "    <tr>\n",
              "      <th>4</th>\n",
              "      <td>NaN</td>\n",
              "      <td>Kigali</td>\n",
              "      <td>1.0</td>\n",
              "      <td>Food and beverage training</td>\n",
              "      <td>Yes</td>\n",
              "      <td>to get the skills required to work in tourism ...</td>\n",
              "      <td>Very satisfied</td>\n",
              "      <td>Very satisfied</td>\n",
              "      <td>Very satisfied</td>\n",
              "      <td>Satisfied</td>\n",
              "      <td>Agree</td>\n",
              "      <td>Strongly agree</td>\n",
              "      <td>Agree</td>\n",
              "      <td>Very satisfied</td>\n",
              "      <td>NaN</td>\n",
              "      <td>Very satisfied</td>\n",
              "      <td>The combination is about right</td>\n",
              "      <td>Enough</td>\n",
              "      <td>NaN</td>\n",
              "      <td>Strongly agree</td>\n",
              "      <td>Strongly agree</td>\n",
              "      <td>NaN</td>\n",
              "      <td>Strongly agree</td>\n",
              "      <td>Strongly agree</td>\n",
              "      <td>Strongly agree</td>\n",
              "      <td>Strongly agree</td>\n",
              "      <td>Strongly agree</td>\n",
              "      <td>Strongly agree</td>\n",
              "      <td>Strongly agree</td>\n",
              "      <td>Strongly agree</td>\n",
              "      <td>Strongly agree</td>\n",
              "      <td>Yes</td>\n",
              "      <td>Yes</td>\n",
              "      <td>Yes</td>\n",
              "      <td>Yes</td>\n",
              "      <td>Yes</td>\n",
              "      <td>NaN</td>\n",
              "      <td>NaN</td>\n",
              "      <td>Yes</td>\n",
              "      <td>NaN</td>\n",
              "      <td>NaN</td>\n",
              "    </tr>\n",
              "  </tbody>\n",
              "</table>\n",
              "</div>"
            ],
            "text/plain": [
              "   Unnamed: 0  ... Would you explain in your own words what need to be improved in the training to increase your satisfaction level?\n",
              "0         NaN  ...  what I may suggest in front office agents depa...                                                               \n",
              "1         NaN  ...  For me including professional pactices like op...                                                               \n",
              "2         NaN  ...                                                NaN                                                               \n",
              "3         NaN  ...                                                NaN                                                               \n",
              "4         NaN  ...                                                NaN                                                               \n",
              "\n",
              "[5 rows x 41 columns]"
            ]
          },
          "metadata": {
            "tags": []
          },
          "execution_count": 6
        }
      ]
    },
    {
      "cell_type": "code",
      "metadata": {
        "id": "I6VgEEd63aWl",
        "colab_type": "code",
        "colab": {}
      },
      "source": [
        "#function that will be used to analyze various categories\n",
        "def analyze_sentiment(sum_pol, min_pol, max_pol, avg_pol, polarity, subjectivity, sentiments_df, dataset):\n",
        "  sum_pol=0\n",
        "  min_pol=20\n",
        "  max_pol=-2\n",
        "\n",
        "  for comment in dataset:\n",
        "      blob=TextBlob(comment)\n",
        "      pol=blob.polarity\n",
        "      polarity.append(pol)\n",
        "      sum_pol+=pol\n",
        "      if pol>max_pol:\n",
        "        max_pol=pol\n",
        "      if pol<min_pol:\n",
        "        min_pol=pol\n",
        "\n",
        "      df=pd.DataFrame({\"comment\":[comment], \"polarity\":[pol], \"subjectivity\":[blob.subjectivity]})\n",
        "      sentiments_df=sentiments_df.append(df, ignore_index=True)\n",
        "      subjectivity.append(blob.subjectivity)\n",
        "  avg_pol=sum_pol/dataset.size\n",
        "  print(\"Average Polarity: \"+str(avg_pol))\n",
        "  print(\"Maximum Polarity: \"+str(max_pol))\n",
        "  print(\"Minimum Polarity: \"+str(min_pol))"
      ],
      "execution_count": 0,
      "outputs": []
    },
    {
      "cell_type": "markdown",
      "metadata": {
        "id": "WtDXE4tK30cw",
        "colab_type": "text"
      },
      "source": [
        "###Change in time from 4 weeks to 6 weeks.\n",
        "The next section investigates the impact of the change in duration of the programme. It occured at the beginning of batch 3 in Musanze and batch 11 in Kigali."
      ]
    },
    {
      "cell_type": "code",
      "metadata": {
        "id": "gG33jsnlPdHy",
        "colab_type": "code",
        "colab": {}
      },
      "source": [
        "raw_data=raw_data[raw_data.Campus.notnull()]\n",
        "raw_6_musanze=raw_data[(raw_data['Class']>2) & (raw_data['Campus']==\"Musanze\")]\n",
        "raw_6_kgl=raw_data[(raw_data['Class']>=11)]\n",
        "raw_6_combined=pd.concat([raw_6_musanze, raw_6_kgl], ignore_index=True)"
      ],
      "execution_count": 0,
      "outputs": []
    },
    {
      "cell_type": "markdown",
      "metadata": {
        "id": "r_MlWEroZrvk",
        "colab_type": "text"
      },
      "source": [
        ""
      ]
    },
    {
      "cell_type": "code",
      "metadata": {
        "id": "IxrYkiWFNfM2",
        "colab_type": "code",
        "outputId": "0a1702c3-c060-4a61-90de-1832f135150d",
        "colab": {
          "base_uri": "https://localhost:8080/",
          "height": 102
        }
      },
      "source": [
        "improved=raw_6_combined['Would you explain in your own words what need to be improved in the training to increase your satisfaction level?']\n",
        "improved=improved.drop_duplicates()\n",
        "improved=improved.dropna()\n",
        "improved=improved.rename(\"improve_col\")\n",
        "improved.describe()"
      ],
      "execution_count": 0,
      "outputs": [
        {
          "output_type": "execute_result",
          "data": {
            "text/plain": [
              "count                                    68\n",
              "unique                                   68\n",
              "top       internship course will be better.\n",
              "freq                                      1\n",
              "Name: improve_col, dtype: object"
            ]
          },
          "metadata": {
            "tags": []
          },
          "execution_count": 79
        }
      ]
    },
    {
      "cell_type": "code",
      "metadata": {
        "id": "9quLVDf3agFO",
        "colab_type": "code",
        "outputId": "782e83e8-596f-4be9-b8cc-9e6e521b2c9d",
        "colab": {
          "base_uri": "https://localhost:8080/",
          "height": 34
        }
      },
      "source": [
        "no_time=0\n",
        "for index,  comment in improved.items():\n",
        "  if \"time\" in comment  or \"Time\" in comment:\n",
        "      no_time=no_time+1\n",
        "print(no_time)"
      ],
      "execution_count": 0,
      "outputs": [
        {
          "output_type": "stream",
          "text": [
            "18\n"
          ],
          "name": "stdout"
        }
      ]
    },
    {
      "cell_type": "code",
      "metadata": {
        "id": "2UNV-X2TcrhT",
        "colab_type": "code",
        "colab": {}
      },
      "source": [
        "polarity=[]\n",
        "subjectivity=[]\n",
        "improved_sentiments=pd.DataFrame( data=[], columns=[\"comment\", \"polarity\", \"subjectivity\"])"
      ],
      "execution_count": 0,
      "outputs": []
    },
    {
      "cell_type": "code",
      "metadata": {
        "id": "HCiZuhXYcwHu",
        "colab_type": "code",
        "outputId": "51d0031d-1075-4a30-d7bd-9f055f79256d",
        "colab": {
          "base_uri": "https://localhost:8080/",
          "height": 68
        }
      },
      "source": [
        "sum_polarity=0\n",
        "min_improved_polarity=20\n",
        "max_improved_polarity=-2\n",
        "avg_improved_polarity=0\n",
        "\n",
        "analyze_sentiment(sum_polarity,min_improved_polarity,max_improved_polarity,avg_improved_polarity,polarity,subjectivity,improved_sentiments,improved)"
      ],
      "execution_count": 0,
      "outputs": [
        {
          "output_type": "stream",
          "text": [
            "Average Polarity: 0.1427201797385621\n",
            "Maximum Polarity: 1.0\n",
            "Minimum Polarity: -0.3\n"
          ],
          "name": "stdout"
        }
      ]
    },
    {
      "cell_type": "code",
      "metadata": {
        "id": "H4Rm46yuc3V0",
        "colab_type": "code",
        "outputId": "9e59e845-de2b-44f8-e580-6c46b093ac47",
        "colab": {
          "base_uri": "https://localhost:8080/",
          "height": 359
        }
      },
      "source": [
        "improved_sentiments.sort_values(\"polarity\", inplace=True)\n",
        "improved_sentiments.head(10)"
      ],
      "execution_count": 0,
      "outputs": [
        {
          "output_type": "execute_result",
          "data": {
            "text/html": [
              "<div>\n",
              "<style scoped>\n",
              "    .dataframe tbody tr th:only-of-type {\n",
              "        vertical-align: middle;\n",
              "    }\n",
              "\n",
              "    .dataframe tbody tr th {\n",
              "        vertical-align: top;\n",
              "    }\n",
              "\n",
              "    .dataframe thead th {\n",
              "        text-align: right;\n",
              "    }\n",
              "</style>\n",
              "<table border=\"1\" class=\"dataframe\">\n",
              "  <thead>\n",
              "    <tr style=\"text-align: right;\">\n",
              "      <th></th>\n",
              "      <th>comment</th>\n",
              "      <th>polarity</th>\n",
              "      <th>subjectivity</th>\n",
              "    </tr>\n",
              "  </thead>\n",
              "  <tbody>\n",
              "    <tr>\n",
              "      <th>4</th>\n",
              "      <td>Reducing the mark for sartifite at least it ca...</td>\n",
              "      <td>-0.300000</td>\n",
              "      <td>0.400000</td>\n",
              "    </tr>\n",
              "    <tr>\n",
              "      <th>92</th>\n",
              "      <td>To help the students to get the transport  bec...</td>\n",
              "      <td>-0.291667</td>\n",
              "      <td>0.541667</td>\n",
              "    </tr>\n",
              "    <tr>\n",
              "      <th>0</th>\n",
              "      <td>I would like to ask vatel training to help tra...</td>\n",
              "      <td>-0.133333</td>\n",
              "      <td>0.600000</td>\n",
              "    </tr>\n",
              "    <tr>\n",
              "      <th>99</th>\n",
              "      <td>to have other training that can help me to be ...</td>\n",
              "      <td>-0.125000</td>\n",
              "      <td>0.375000</td>\n",
              "    </tr>\n",
              "    <tr>\n",
              "      <th>40</th>\n",
              "      <td>When vatel increase a time of training it is h...</td>\n",
              "      <td>-0.100000</td>\n",
              "      <td>0.050000</td>\n",
              "    </tr>\n",
              "    <tr>\n",
              "      <th>78</th>\n",
              "      <td>I would like to ask the management of Vatel to...</td>\n",
              "      <td>-0.033333</td>\n",
              "      <td>0.433333</td>\n",
              "    </tr>\n",
              "    <tr>\n",
              "      <th>62</th>\n",
              "      <td>i want it</td>\n",
              "      <td>0.000000</td>\n",
              "      <td>0.000000</td>\n",
              "    </tr>\n",
              "    <tr>\n",
              "      <th>59</th>\n",
              "      <td>Increase time, practical space should also be ...</td>\n",
              "      <td>0.000000</td>\n",
              "      <td>0.000000</td>\n",
              "    </tr>\n",
              "    <tr>\n",
              "      <th>58</th>\n",
              "      <td>Every one who finished has cramming in vatel t...</td>\n",
              "      <td>0.000000</td>\n",
              "      <td>0.000000</td>\n",
              "    </tr>\n",
              "    <tr>\n",
              "      <th>56</th>\n",
              "      <td>increase the time of training</td>\n",
              "      <td>0.000000</td>\n",
              "      <td>0.000000</td>\n",
              "    </tr>\n",
              "  </tbody>\n",
              "</table>\n",
              "</div>"
            ],
            "text/plain": [
              "                                              comment  polarity  subjectivity\n",
              "4   Reducing the mark for sartifite at least it ca... -0.300000      0.400000\n",
              "92  To help the students to get the transport  bec... -0.291667      0.541667\n",
              "0   I would like to ask vatel training to help tra... -0.133333      0.600000\n",
              "99  to have other training that can help me to be ... -0.125000      0.375000\n",
              "40  When vatel increase a time of training it is h... -0.100000      0.050000\n",
              "78  I would like to ask the management of Vatel to... -0.033333      0.433333\n",
              "62                                          i want it  0.000000      0.000000\n",
              "59  Increase time, practical space should also be ...  0.000000      0.000000\n",
              "58  Every one who finished has cramming in vatel t...  0.000000      0.000000\n",
              "56                      increase the time of training  0.000000      0.000000"
            ]
          },
          "metadata": {
            "tags": []
          },
          "execution_count": 34
        }
      ]
    },
    {
      "cell_type": "code",
      "metadata": {
        "id": "JTHpr7m0eexD",
        "colab_type": "code",
        "outputId": "ddcb4841-ba23-49f6-d7a4-47b6a7c86339",
        "colab": {
          "base_uri": "https://localhost:8080/",
          "height": 51
        }
      },
      "source": [
        "pctg_after=18/68\n",
        "pctg_overall=107/318\n",
        "print(\"Percentage of time mention overall: \"+str(pctg_overall))\n",
        "print(\"Percentage of time mention after time has been increase: \"+str(pctg_after))"
      ],
      "execution_count": 0,
      "outputs": [
        {
          "output_type": "stream",
          "text": [
            "Percentage of time mention overall:0.33647798742138363\n",
            "Percentage of time mention after time has been increase:0.2647058823529412\n"
          ],
          "name": "stdout"
        }
      ]
    },
    {
      "cell_type": "code",
      "metadata": {
        "id": "ejyELyH-fQ-f",
        "colab_type": "code",
        "outputId": "835b5214-e7b6-4535-f568-2c4a274eda13",
        "colab": {
          "base_uri": "https://localhost:8080/",
          "height": 51
        }
      },
      "source": [
        "print(\"Overall average polarity: 0.1791349021058141\" )\n",
        "print(\"Average polarity after time change to 6 weeks: 0.1427201797385621 \" )"
      ],
      "execution_count": 0,
      "outputs": [
        {
          "output_type": "stream",
          "text": [
            "Overall average polarity: 0.1791349021058141\n",
            "Average polarity after time change to 6 weeks: 0.1427201797385621 \n"
          ],
          "name": "stdout"
        }
      ]
    },
    {
      "cell_type": "markdown",
      "metadata": {
        "id": "6j2OG4z-hQa5",
        "colab_type": "text"
      },
      "source": [
        "###Revision of the curriculum.\n",
        "Started in batch 6 Kigali. Going to investigate the polarity before and polarity after."
      ]
    },
    {
      "cell_type": "code",
      "metadata": {
        "colab_type": "code",
        "outputId": "f36a2ac6-5f81-44e7-b81d-a3e23a673f78",
        "id": "Z_WUR95emqZx",
        "colab": {
          "base_uri": "https://localhost:8080/",
          "height": 314
        }
      },
      "source": [
        "before_revision=raw_data[(raw_data['Class']<6) & (raw_data['Campus']!=\"Musanze\")]\n",
        "after_revision_kgl=raw_data[(raw_data['Class']>=6) ]\n",
        "musanze=raw_data[raw_data['Campus']==\"Musanze\"]\n",
        "after_revision_combined=pd.concat([after_revision_kgl,musanze], ignore_index=True)\n",
        "after_revision_combined.describe()"
      ],
      "execution_count": 0,
      "outputs": [
        {
          "output_type": "execute_result",
          "data": {
            "text/html": [
              "<div>\n",
              "<style scoped>\n",
              "    .dataframe tbody tr th:only-of-type {\n",
              "        vertical-align: middle;\n",
              "    }\n",
              "\n",
              "    .dataframe tbody tr th {\n",
              "        vertical-align: top;\n",
              "    }\n",
              "\n",
              "    .dataframe thead th {\n",
              "        text-align: right;\n",
              "    }\n",
              "</style>\n",
              "<table border=\"1\" class=\"dataframe\">\n",
              "  <thead>\n",
              "    <tr style=\"text-align: right;\">\n",
              "      <th></th>\n",
              "      <th>Unnamed: 0</th>\n",
              "      <th>Class</th>\n",
              "      <th>On a scale of zero to ten (10 being extremely likely and 0 being not at all likely),how likely are you to recommend Vatel training to another student/ friend or colleague?”</th>\n",
              "    </tr>\n",
              "  </thead>\n",
              "  <tbody>\n",
              "    <tr>\n",
              "      <th>count</th>\n",
              "      <td>0.0</td>\n",
              "      <td>279.000000</td>\n",
              "      <td>252.000000</td>\n",
              "    </tr>\n",
              "    <tr>\n",
              "      <th>mean</th>\n",
              "      <td>NaN</td>\n",
              "      <td>6.630824</td>\n",
              "      <td>8.928571</td>\n",
              "    </tr>\n",
              "    <tr>\n",
              "      <th>std</th>\n",
              "      <td>NaN</td>\n",
              "      <td>3.753643</td>\n",
              "      <td>1.680346</td>\n",
              "    </tr>\n",
              "    <tr>\n",
              "      <th>min</th>\n",
              "      <td>NaN</td>\n",
              "      <td>1.000000</td>\n",
              "      <td>1.000000</td>\n",
              "    </tr>\n",
              "    <tr>\n",
              "      <th>25%</th>\n",
              "      <td>NaN</td>\n",
              "      <td>3.000000</td>\n",
              "      <td>8.000000</td>\n",
              "    </tr>\n",
              "    <tr>\n",
              "      <th>50%</th>\n",
              "      <td>NaN</td>\n",
              "      <td>8.000000</td>\n",
              "      <td>10.000000</td>\n",
              "    </tr>\n",
              "    <tr>\n",
              "      <th>75%</th>\n",
              "      <td>NaN</td>\n",
              "      <td>10.000000</td>\n",
              "      <td>10.000000</td>\n",
              "    </tr>\n",
              "    <tr>\n",
              "      <th>max</th>\n",
              "      <td>NaN</td>\n",
              "      <td>12.000000</td>\n",
              "      <td>10.000000</td>\n",
              "    </tr>\n",
              "  </tbody>\n",
              "</table>\n",
              "</div>"
            ],
            "text/plain": [
              "       Unnamed: 0  ...  On a scale of zero to ten (10 being extremely likely and 0 being not at all likely),how likely are you to recommend Vatel training to another student/ friend or colleague?”\n",
              "count         0.0  ...                                         252.000000                                                                                                                           \n",
              "mean          NaN  ...                                           8.928571                                                                                                                           \n",
              "std           NaN  ...                                           1.680346                                                                                                                           \n",
              "min           NaN  ...                                           1.000000                                                                                                                           \n",
              "25%           NaN  ...                                           8.000000                                                                                                                           \n",
              "50%           NaN  ...                                          10.000000                                                                                                                           \n",
              "75%           NaN  ...                                          10.000000                                                                                                                           \n",
              "max           NaN  ...                                          10.000000                                                                                                                           \n",
              "\n",
              "[8 rows x 3 columns]"
            ]
          },
          "metadata": {
            "tags": []
          },
          "execution_count": 74
        }
      ]
    },
    {
      "cell_type": "markdown",
      "metadata": {
        "id": "ZQJrJdMrh1iv",
        "colab_type": "text"
      },
      "source": [
        ""
      ]
    },
    {
      "cell_type": "markdown",
      "metadata": {
        "id": "fziA_xexv6Ji",
        "colab_type": "text"
      },
      "source": [
        ""
      ]
    },
    {
      "cell_type": "code",
      "metadata": {
        "id": "kS2pyD8Evaoc",
        "colab_type": "code",
        "outputId": "1960a65c-969b-4579-d437-f47118ff294c",
        "colab": {
          "base_uri": "https://localhost:8080/",
          "height": 68
        }
      },
      "source": [
        "before_rev_sum_pol, before_rev_min_pol, before_rev_max_pol, before_rev_avg_pol=0,0,0,0\n",
        "before_rev_polarity=[]\n",
        "before_rev_subjectivity=[]\n",
        "before_rev_sentiments_df=pd.DataFrame( data=[], columns=[\"comment\", \"polarity\", \"subjectivity\"])\n",
        "analyze_sentiment(before_rev_sum_pol, before_rev_min_pol, before_rev_max_pol, before_rev_avg_pol,before_rev_polarity, before_rev_subjectivity,before_rev_sentiments_df,before_revision)"
      ],
      "execution_count": 0,
      "outputs": [
        {
          "output_type": "stream",
          "text": [
            "Average Polarity: 0.0018751239341661704\n",
            "Maximum Polarity: 1.0\n",
            "Minimum Polarity: -0.16666666666666666\n"
          ],
          "name": "stdout"
        }
      ]
    },
    {
      "cell_type": "code",
      "metadata": {
        "colab_type": "code",
        "outputId": "eb1ae5e2-cbae-48f6-ab43-ad0878f85b49",
        "id": "oC2xDQ4nye34",
        "colab": {
          "base_uri": "https://localhost:8080/",
          "height": 68
        }
      },
      "source": [
        "after_rev_sum_pol, after_rev_min_pol, after_rev_max_pol, after_rev_avg_pol=0,0,0,0\n",
        "after_rev_polarity=[]\n",
        "after_rev_subjectivity=[]\n",
        "after_rev_sentiments_df=pd.DataFrame( data=[], columns=[\"comment\", \"polarity\", \"subjectivity\"])\n",
        "analyze_sentiment(after_rev_sum_pol,after_rev_min_pol, after_rev_max_pol, after_rev_avg_pol, after_rev_polarity, after_rev_subjectivity,after_rev_sentiments_df,after_revision_combined)"
      ],
      "execution_count": 0,
      "outputs": [
        {
          "output_type": "stream",
          "text": [
            "Average Polarity: 0.0005511116939126379\n",
            "Maximum Polarity: 1.0\n",
            "Minimum Polarity: -0.16666666666666666\n"
          ],
          "name": "stdout"
        }
      ]
    },
    {
      "cell_type": "markdown",
      "metadata": {
        "id": "i0OEh6HHtc66",
        "colab_type": "text"
      },
      "source": [
        "Shift in facilitators for F&B\n",
        "Francois started teaching F&B talking over from Francois and Pauline who taught temporarily..\n",
        "No data from batch 13 and batch 4 Musanze when Francois started teaching.\n",
        "\n",
        "Batch 10-12 Kigali, Pauline taught both F&B and F&O.\n",
        "\n",
        "I will start with overall sentiment analysis(Which doesn't take into account other factors that might influence sentiments) then extract records where F&B was mentioned and do a separate sentiment analysis. This might also help establish how much F&B as a course contributes to the overall results"
      ]
    },
    {
      "cell_type": "code",
      "metadata": {
        "id": "Ot4adqyds9uZ",
        "colab_type": "code",
        "colab": {}
      },
      "source": [
        "during_Federico=raw_data[(raw_data['Class']<=9)]\n",
        "during_Federico=during_Federico['Would you explain in your own words what need to be improved in the training to increase your satisfaction level?']\n",
        "during_Federico=during_Federico.dropna()\n",
        "post_federico=raw_data[(raw_data['Class']>=10) ]\n",
        "post_federico=post_federico['Would you explain in your own words what need to be improved in the training to increase your satisfaction level?']\n",
        "post_federico=post_federico.dropna()\n"
      ],
      "execution_count": 0,
      "outputs": []
    },
    {
      "cell_type": "markdown",
      "metadata": {
        "id": "hRn10Bo09QWx",
        "colab_type": "text"
      },
      "source": [
        ""
      ]
    },
    {
      "cell_type": "code",
      "metadata": {
        "id": "ghMKzIc09SSV",
        "colab_type": "code",
        "outputId": "00a03014-17d2-4a83-a79e-9569f95a5fc6",
        "colab": {
          "base_uri": "https://localhost:8080/",
          "height": 221
        }
      },
      "source": [
        "during_Federico"
      ],
      "execution_count": 0,
      "outputs": [
        {
          "output_type": "execute_result",
          "data": {
            "text/plain": [
              "125                                      more placticals\n",
              "126    Hello!    Reguarding the practicals, i would l...\n",
              "127                         more practical and discusion\n",
              "128    Yes, the thing to be improved on is more publi...\n",
              "129    Please find an IT person (because the machines...\n",
              "                             ...                        \n",
              "358                       we make increasing in practice\n",
              "359    yes their  purpose have it all ready  gainning...\n",
              "360    Thank you very much,in this training you have ...\n",
              "361    will be  much better if you change place and y...\n",
              "362    The training can be extended by having enough ...\n",
              "Name: Would you explain in your own words what need to be improved in the training to increase your satisfaction level?, Length: 238, dtype: object"
            ]
          },
          "metadata": {
            "tags": []
          },
          "execution_count": 26
        }
      ]
    },
    {
      "cell_type": "code",
      "metadata": {
        "id": "0Wtiq8Ae-gVf",
        "colab_type": "code",
        "outputId": "076d0cbf-bbb9-41a0-83fe-0e76facd8d57",
        "colab": {
          "base_uri": "https://localhost:8080/",
          "height": 102
        }
      },
      "source": [
        "during_Federico.describe()"
      ],
      "execution_count": 0,
      "outputs": [
        {
          "output_type": "execute_result",
          "data": {
            "text/plain": [
              "count         238\n",
              "unique        236\n",
              "top       Nothing\n",
              "freq            2\n",
              "Name: Would you explain in your own words what need to be improved in the training to increase your satisfaction level?, dtype: object"
            ]
          },
          "metadata": {
            "tags": []
          },
          "execution_count": 27
        }
      ]
    },
    {
      "cell_type": "code",
      "metadata": {
        "id": "mqw4VF-5vP2m",
        "colab_type": "code",
        "outputId": "bb4d3f52-4971-48de-9021-71036ba67605",
        "colab": {
          "base_uri": "https://localhost:8080/",
          "height": 68
        }
      },
      "source": [
        "during_Federico_sum_pol, during_Federico_min_pol, during_Federico_max_pol, during_Federico_avg_pol=0,0,0,0\n",
        "during_Federico_polarity=[]\n",
        "during_Federico_subjectivity=[]\n",
        "during_Federico_sentiments_df=pd.DataFrame( data=[], columns=[\"comment\", \"polarity\", \"subjectivity\"])\n",
        "analyze_sentiment(during_Federico_sum_pol, during_Federico_min_pol, during_Federico_max_pol, during_Federico_avg_pol,during_Federico_polarity,during_Federico_subjectivity,during_Federico_sentiments_df,during_Federico)"
      ],
      "execution_count": 0,
      "outputs": [
        {
          "output_type": "stream",
          "text": [
            "Average Polarity: 0.17627275101959972\n",
            "Maximum Polarity: 0.9099999999999999\n",
            "Minimum Polarity: -0.30000000000000004\n"
          ],
          "name": "stdout"
        }
      ]
    },
    {
      "cell_type": "code",
      "metadata": {
        "id": "QYJhl1x_0bO9",
        "colab_type": "code",
        "outputId": "011c38d7-9554-4cfc-e39c-33799fb21ac9",
        "colab": {
          "base_uri": "https://localhost:8080/",
          "height": 68
        }
      },
      "source": [
        "post_federico_sum_pol, post_federico_min_pol, post_federico_max_pol, post_federico_avg_pol=0,0,0,0\n",
        "post_federico_polarity=[]\n",
        "post_federico_subjectivity=[]\n",
        "post_federico_sentiments_df=pd.DataFrame( data=[], columns=[\"comment\", \"polarity\", \"subjectivity\"])\n",
        "analyze_sentiment(post_federico_sum_pol, post_federico_min_pol, post_federico_max_pol, post_federico_avg_pol,post_federico_polarity,post_federico_subjectivity,post_federico_sentiments_df, post_federico)"
      ],
      "execution_count": 0,
      "outputs": [
        {
          "output_type": "stream",
          "text": [
            "Average Polarity: 0.1873495982755242\n",
            "Maximum Polarity: 1.0\n",
            "Minimum Polarity: -0.2916666666666667\n"
          ],
          "name": "stdout"
        }
      ]
    },
    {
      "cell_type": "code",
      "metadata": {
        "id": "KrBkTvI712Xb",
        "colab_type": "code",
        "outputId": "5c537fd4-ffb9-4ed6-da37-bdb3d6dca307",
        "colab": {
          "base_uri": "https://localhost:8080/",
          "height": 68
        }
      },
      "source": [
        "during_Fed=pd.Series()\n",
        "sum_pol=0\n",
        "min_pol=20\n",
        "max_pol=-2\n",
        "polarity=[]\n",
        "subjectivity=[]\n",
        "sentiments_df=pd.DataFrame( data=[], columns=[\"comment\", \"polarity\", \"subjectivity\"])\n",
        "for comment in during_Federico:\n",
        "\n",
        "   if \"food\" in comment or \"FB\" in comment or \"FOOD\" in comment or \"Food\" in comment or \"beverage\" in comment or \"drink\" in comment or \"Bev\" in comment or \"F&B\" in comment:\n",
        "      blob=TextBlob(comment)\n",
        "      pol=blob.polarity\n",
        "      polarity.append(pol)\n",
        "      sum_pol+=pol\n",
        "      if pol>max_pol:\n",
        "        max_pol=pol\n",
        "      if pol<min_pol:\n",
        "        min_pol=pol\n",
        "\n",
        "      df=pd.DataFrame({\"comment\":[comment], \"polarity\":[pol], \"subjectivity\":[blob.subjectivity]})\n",
        "      sentiments_df=sentiments_df.append(df, ignore_index=True)\n",
        "      subjectivity.append(blob.subjectivity)\n",
        "avg_pol=sum_pol/during_Federico.size\n",
        "print(\"Average Polarity: \"+str(avg_pol))\n",
        "print(\"Maximum Polarity: \"+str(max_pol))\n",
        "print(\"Minimum Polarity: \"+str(min_pol))"
      ],
      "execution_count": 0,
      "outputs": [
        {
          "output_type": "stream",
          "text": [
            "Average Polarity: 0.010060399159663865\n",
            "Maximum Polarity: 0.5\n",
            "Minimum Polarity: 0.0\n"
          ],
          "name": "stdout"
        }
      ]
    },
    {
      "cell_type": "code",
      "metadata": {
        "id": "wqoKLr5nGha1",
        "colab_type": "code",
        "outputId": "3e999870-9374-4a78-ed8e-ded5ed6410f9",
        "colab": {
          "base_uri": "https://localhost:8080/",
          "height": 68
        }
      },
      "source": [
        "post_Fed=pd.Series()\n",
        "sum_pol=0\n",
        "min_pol=20\n",
        "max_pol=-2\n",
        "polarity=[]\n",
        "subjectivity=[]\n",
        "sentiments_df=pd.DataFrame( data=[], columns=[\"comment\", \"polarity\", \"subjectivity\"])\n",
        "for comment in post_federico:\n",
        "   if \"food\" in comment or \"FB\" in comment or \"FOOD\" in comment or \"Food\" in comment or \"beverage\" in comment or \"drink\" in comment or \"Bev\" in comment or \"F&B\" in comment:\n",
        "      blob=TextBlob(comment)\n",
        "      pol=blob.polarity\n",
        "      polarity.append(pol)\n",
        "      sum_pol+=pol\n",
        "      if pol>max_pol:\n",
        "        max_pol=pol\n",
        "      if pol<min_pol:\n",
        "        min_pol=pol\n",
        "      df=pd.DataFrame({\"comment\":[comment], \"polarity\":[pol], \"subjectivity\":[blob.subjectivity]})\n",
        "      sentiments_df=sentiments_df.append(df, ignore_index=True)\n",
        "      subjectivity.append(blob.subjectivity)\n",
        "avg_pol=sum_pol/post_federico.size\n",
        "print(\"Average Polarity: \"+str(avg_pol))\n",
        "print(\"Maximum Polarity: \"+str(max_pol))\n",
        "print(\"Minimum Polarity: \"+str(min_pol))"
      ],
      "execution_count": 0,
      "outputs": [
        {
          "output_type": "stream",
          "text": [
            "Average Polarity: 0.003566529492455418\n",
            "Maximum Polarity: 0.16666666666666666\n",
            "Minimum Polarity: 0.0\n"
          ],
          "name": "stdout"
        }
      ]
    }
  ]
}