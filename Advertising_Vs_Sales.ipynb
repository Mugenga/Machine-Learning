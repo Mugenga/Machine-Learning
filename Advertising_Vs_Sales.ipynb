{
  "nbformat": 4,
  "nbformat_minor": 0,
  "metadata": {
    "colab": {
      "name": "Advertising_Vs_Sales.ipynb",
      "version": "0.3.2",
      "provenance": [],
      "include_colab_link": true
    },
    "kernelspec": {
      "name": "python3",
      "display_name": "Python 3"
    }
  },
  "cells": [
    {
      "cell_type": "markdown",
      "metadata": {
        "id": "view-in-github",
        "colab_type": "text"
      },
      "source": [
        "<a href=\"https://colab.research.google.com/github/Pogayo/Machine-Learning/blob/master/Advertising_Vs_Sales.ipynb\" target=\"_parent\"><img src=\"https://colab.research.google.com/assets/colab-badge.svg\" alt=\"Open In Colab\"/></a>"
      ]
    },
    {
      "cell_type": "code",
      "metadata": {
        "id": "Q_kyHFIahn4T",
        "colab_type": "code",
        "colab": {}
      },
      "source": [
        "import numpy as np\n",
        "import pandas as pd"
      ],
      "execution_count": 0,
      "outputs": []
    },
    {
      "cell_type": "code",
      "metadata": {
        "id": "8qlL2poAiNBR",
        "colab_type": "code",
        "colab": {
          "base_uri": "https://localhost:8080/",
          "height": 190
        },
        "outputId": "4557c627-b374-40b7-802b-062770b93cbc"
      },
      "source": [
        "data=pd.read_csv(\"http://www-bcf.usc.edu/~gareth/ISL/Advertising.csv\", index_col=0) # reading the Comma Separated values into a dataframe.Add the index col parameter as the csv data is already indexed by the first column\n",
        "print(data.shape)\n",
        "data.head(4)"
      ],
      "execution_count": 4,
      "outputs": [
        {
          "output_type": "stream",
          "text": [
            "(200, 4)\n"
          ],
          "name": "stdout"
        },
        {
          "output_type": "execute_result",
          "data": {
            "text/html": [
              "<div>\n",
              "<style scoped>\n",
              "    .dataframe tbody tr th:only-of-type {\n",
              "        vertical-align: middle;\n",
              "    }\n",
              "\n",
              "    .dataframe tbody tr th {\n",
              "        vertical-align: top;\n",
              "    }\n",
              "\n",
              "    .dataframe thead th {\n",
              "        text-align: right;\n",
              "    }\n",
              "</style>\n",
              "<table border=\"1\" class=\"dataframe\">\n",
              "  <thead>\n",
              "    <tr style=\"text-align: right;\">\n",
              "      <th></th>\n",
              "      <th>TV</th>\n",
              "      <th>radio</th>\n",
              "      <th>newspaper</th>\n",
              "      <th>sales</th>\n",
              "    </tr>\n",
              "  </thead>\n",
              "  <tbody>\n",
              "    <tr>\n",
              "      <th>1</th>\n",
              "      <td>230.1</td>\n",
              "      <td>37.8</td>\n",
              "      <td>69.2</td>\n",
              "      <td>22.1</td>\n",
              "    </tr>\n",
              "    <tr>\n",
              "      <th>2</th>\n",
              "      <td>44.5</td>\n",
              "      <td>39.3</td>\n",
              "      <td>45.1</td>\n",
              "      <td>10.4</td>\n",
              "    </tr>\n",
              "    <tr>\n",
              "      <th>3</th>\n",
              "      <td>17.2</td>\n",
              "      <td>45.9</td>\n",
              "      <td>69.3</td>\n",
              "      <td>9.3</td>\n",
              "    </tr>\n",
              "    <tr>\n",
              "      <th>4</th>\n",
              "      <td>151.5</td>\n",
              "      <td>41.3</td>\n",
              "      <td>58.5</td>\n",
              "      <td>18.5</td>\n",
              "    </tr>\n",
              "  </tbody>\n",
              "</table>\n",
              "</div>"
            ],
            "text/plain": [
              "      TV  radio  newspaper  sales\n",
              "1  230.1   37.8       69.2   22.1\n",
              "2   44.5   39.3       45.1   10.4\n",
              "3   17.2   45.9       69.3    9.3\n",
              "4  151.5   41.3       58.5   18.5"
            ]
          },
          "metadata": {
            "tags": []
          },
          "execution_count": 4
        }
      ]
    },
    {
      "cell_type": "code",
      "metadata": {
        "id": "UtgT_GtijKkB",
        "colab_type": "code",
        "colab": {
          "base_uri": "https://localhost:8080/",
          "height": 297
        },
        "outputId": "78c4ef95-6e0b-4b56-92a5-b60ce7288399"
      },
      "source": [
        "#For this dataset.. the features are TV, radio and newspaper while the response is sales\n",
        "#Because the response values are continous, this is a regression problem\n",
        "#There are 200 observations\n",
        "data.describe()  #getting the statistical summary\n"
      ],
      "execution_count": 6,
      "outputs": [
        {
          "output_type": "execute_result",
          "data": {
            "text/html": [
              "<div>\n",
              "<style scoped>\n",
              "    .dataframe tbody tr th:only-of-type {\n",
              "        vertical-align: middle;\n",
              "    }\n",
              "\n",
              "    .dataframe tbody tr th {\n",
              "        vertical-align: top;\n",
              "    }\n",
              "\n",
              "    .dataframe thead th {\n",
              "        text-align: right;\n",
              "    }\n",
              "</style>\n",
              "<table border=\"1\" class=\"dataframe\">\n",
              "  <thead>\n",
              "    <tr style=\"text-align: right;\">\n",
              "      <th></th>\n",
              "      <th>TV</th>\n",
              "      <th>radio</th>\n",
              "      <th>newspaper</th>\n",
              "      <th>sales</th>\n",
              "    </tr>\n",
              "  </thead>\n",
              "  <tbody>\n",
              "    <tr>\n",
              "      <th>count</th>\n",
              "      <td>200.000000</td>\n",
              "      <td>200.000000</td>\n",
              "      <td>200.000000</td>\n",
              "      <td>200.000000</td>\n",
              "    </tr>\n",
              "    <tr>\n",
              "      <th>mean</th>\n",
              "      <td>147.042500</td>\n",
              "      <td>23.264000</td>\n",
              "      <td>30.554000</td>\n",
              "      <td>14.022500</td>\n",
              "    </tr>\n",
              "    <tr>\n",
              "      <th>std</th>\n",
              "      <td>85.854236</td>\n",
              "      <td>14.846809</td>\n",
              "      <td>21.778621</td>\n",
              "      <td>5.217457</td>\n",
              "    </tr>\n",
              "    <tr>\n",
              "      <th>min</th>\n",
              "      <td>0.700000</td>\n",
              "      <td>0.000000</td>\n",
              "      <td>0.300000</td>\n",
              "      <td>1.600000</td>\n",
              "    </tr>\n",
              "    <tr>\n",
              "      <th>25%</th>\n",
              "      <td>74.375000</td>\n",
              "      <td>9.975000</td>\n",
              "      <td>12.750000</td>\n",
              "      <td>10.375000</td>\n",
              "    </tr>\n",
              "    <tr>\n",
              "      <th>50%</th>\n",
              "      <td>149.750000</td>\n",
              "      <td>22.900000</td>\n",
              "      <td>25.750000</td>\n",
              "      <td>12.900000</td>\n",
              "    </tr>\n",
              "    <tr>\n",
              "      <th>75%</th>\n",
              "      <td>218.825000</td>\n",
              "      <td>36.525000</td>\n",
              "      <td>45.100000</td>\n",
              "      <td>17.400000</td>\n",
              "    </tr>\n",
              "    <tr>\n",
              "      <th>max</th>\n",
              "      <td>296.400000</td>\n",
              "      <td>49.600000</td>\n",
              "      <td>114.000000</td>\n",
              "      <td>27.000000</td>\n",
              "    </tr>\n",
              "  </tbody>\n",
              "</table>\n",
              "</div>"
            ],
            "text/plain": [
              "               TV       radio   newspaper       sales\n",
              "count  200.000000  200.000000  200.000000  200.000000\n",
              "mean   147.042500   23.264000   30.554000   14.022500\n",
              "std     85.854236   14.846809   21.778621    5.217457\n",
              "min      0.700000    0.000000    0.300000    1.600000\n",
              "25%     74.375000    9.975000   12.750000   10.375000\n",
              "50%    149.750000   22.900000   25.750000   12.900000\n",
              "75%    218.825000   36.525000   45.100000   17.400000\n",
              "max    296.400000   49.600000  114.000000   27.000000"
            ]
          },
          "metadata": {
            "tags": []
          },
          "execution_count": 6
        }
      ]
    },
    {
      "cell_type": "code",
      "metadata": {
        "id": "jgA2wG0uj1wh",
        "colab_type": "code",
        "colab": {
          "base_uri": "https://localhost:8080/",
          "height": 530
        },
        "outputId": "6a7e0c25-65ee-4012-fa88-8b3c9cab253e"
      },
      "source": [
        "#next step is visualizing using seaborn(It is the first time I am using it-It is a library for statistical data visualization built on top of Matplotlib)\n",
        "import seaborn as sb\n",
        "# to allow plots to appear within the notebook\n",
        "%matplotlib inline \n",
        "#I am going to visualize the relationship between the features and the respinse using scatterplots\n",
        "sb.pairplot(data,x_vars=['TV','radio','newspaper'], y_vars='sales',height=7,aspect=0.7,kind='reg') #the height parameter used to be size\n"
      ],
      "execution_count": 11,
      "outputs": [
        {
          "output_type": "execute_result",
          "data": {
            "text/plain": [
              "<seaborn.axisgrid.PairGrid at 0x7f085294e438>"
            ]
          },
          "metadata": {
            "tags": []
          },
          "execution_count": 11
        },
        {
          "output_type": "display_data",
          "data": {
            "image/png": "[encoded data removed]",
            "text/plain": [
              "<Figure size 1058.4x504 with 3 Axes>"
            ]
          },
          "metadata": {
            "tags": []
          }
        }
      ]
    },
    {
      "cell_type": "code",
      "metadata": {
        "id": "KYrMiPNyli-6",
        "colab_type": "code",
        "colab": {
          "base_uri": "https://localhost:8080/",
          "height": 34
        },
        "outputId": "039161ab-6b51-4721-f525-52ed35c0a3e3"
      },
      "source": [
        "#Preparing the training and test data, will use the train_test_split function\n",
        "X=data[['TV','radio','newspaper']]\n",
        "Y=data.sales #can do this because it is a series\n",
        "X.head() #default for head() is 5\n",
        "Y.head(2)\n",
        "\n",
        "from sklearn.model_selection import train_test_split\n",
        "\n",
        "X_train, X_test, Y_train, Y_test=train_test_split(X,Y,random_state=2) #default for test is 25%\n",
        "X_train.shape\n"
      ],
      "execution_count": 20,
      "outputs": [
        {
          "output_type": "execute_result",
          "data": {
            "text/plain": [
              "(150, 3)"
            ]
          },
          "metadata": {
            "tags": []
          },
          "execution_count": 20
        }
      ]
    },
    {
      "cell_type": "code",
      "metadata": {
        "id": "RtMVDhZSo6iL",
        "colab_type": "code",
        "colab": {
          "base_uri": "https://localhost:8080/",
          "height": 102
        },
        "outputId": "b9d33e86-567e-455f-b684-03efd46c005c"
      },
      "source": [
        "from sklearn.linear_model import LinearRegression\n",
        "\n",
        "#instantiating\n",
        "linreg=LinearRegression()\n",
        "#fittimg\n",
        "linreg.fit(X_train,Y_train)\n",
        "print(\"intercept:\"+str(linreg.intercept_))\n",
        "print(\"coefficients:\"+str(linreg.coef_))\n",
        "#using the zip function to map the coefficients\n",
        "list(zip(['TV','radio','newspaper'],linreg.coef_))"
      ],
      "execution_count": 26,
      "outputs": [
        {
          "output_type": "stream",
          "text": [
            "intercept:3.189486918009912\n",
            "coefficients:[0.04535562 0.18319738 0.00453019]\n"
          ],
          "name": "stdout"
        },
        {
          "output_type": "execute_result",
          "data": {
            "text/plain": [
              "[('TV', 0.04535561991742507),\n",
              " ('radio', 0.1831973844899806),\n",
              " ('newspaper', 0.004530192045904241)]"
            ]
          },
          "metadata": {
            "tags": []
          },
          "execution_count": 26
        }
      ]
    },
    {
      "cell_type": "code",
      "metadata": {
        "id": "cdTCANMSqXB5",
        "colab_type": "code",
        "colab": {
          "base_uri": "https://localhost:8080/",
          "height": 170
        },
        "outputId": "9d84dc45-2ea4-4de2-811e-c80c259277d3"
      },
      "source": [
        "#Now that our model has learnt, let us make predictions\n",
        "y_pred=linreg.predict(X_test)\n",
        "print(y_pred)"
      ],
      "execution_count": 28,
      "outputs": [
        {
          "output_type": "stream",
          "text": [
            "[13.99058152  9.50758367  6.91724455 15.33143648 18.46540316 15.62065818\n",
            "  7.35966887 20.452523   13.24634355 17.16398154 10.99771852 19.46779909\n",
            "  9.03657736 10.89886673 13.95879341 12.69230584  9.23224307 17.89193155\n",
            " 16.51836403 18.68215173 16.75890177 15.84300898 11.91276879 12.23170893\n",
            " 14.83241118 12.1860612  15.39589817  8.02683754 16.61485902 13.8594905\n",
            " 16.26810648 17.1073793  12.82389305 12.95951332  8.95459287 10.93286367\n",
            " 22.17249844 20.08034682 15.94386799 20.20106455 21.16817697 17.38031794\n",
            " 21.21854132 15.16756761 19.72623794 18.80254043 17.51154272 10.51526495\n",
            "  9.69138443 12.88219732]\n"
          ],
          "name": "stdout"
        }
      ]
    },
    {
      "cell_type": "code",
      "metadata": {
        "id": "ppUufMmCqrLy",
        "colab_type": "code",
        "colab": {
          "base_uri": "https://localhost:8080/",
          "height": 68
        },
        "outputId": "6145fa4d-512e-4aa6-b8ed-7937c769d4c6"
      },
      "source": [
        "#Now that we have predicted, we need to measure our accuracy: There are 3 main methods for evaluation linear regression models\n",
        "# 1>Mean Absolute Error (MAE) 2>Mean squared Error 3>Root mean squared error. I will pick RMSE\n",
        "from sklearn import metrics\n",
        "print(metrics.mean_absolute_error(Y_test,y_pred))\n",
        "print(metrics.mean_squared_error(Y_test,y_pred))\n",
        "print(np.sqrt(metrics.mean_squared_error(Y_test,y_pred))) #Doing RMSE using numpy functions"
      ],
      "execution_count": 32,
      "outputs": [
        {
          "output_type": "stream",
          "text": [
            "1.637310971688717\n",
            "5.653366108811545\n",
            "2.3776808256810975\n"
          ],
          "name": "stdout"
        }
      ]
    },
    {
      "cell_type": "code",
      "metadata": {
        "id": "-0GJn0wgsNhw",
        "colab_type": "code",
        "colab": {
          "base_uri": "https://localhost:8080/",
          "height": 34
        },
        "outputId": "0bcecdf0-657a-407d-ef26-7a577f58fe78"
      },
      "source": [
        "# will remove the newspaper feature as it did not have a strong correlations and see how that impacts our predictions\n",
        "X=data[['TV','radio']]\n",
        "X_train,X_test, Y_train,Y_test=train_test_split(X,Y,random_state=2)\n",
        "linreg.fit(X_train,Y_train)\n",
        "pred=linreg.predict(X_test)\n",
        "print(np.sqrt(metrics.mean_squared_error(Y_test,pred)))"
      ],
      "execution_count": 33,
      "outputs": [
        {
          "output_type": "stream",
          "text": [
            "2.3617541355424385\n"
          ],
          "name": "stdout"
        }
      ]
    }
  ]
}